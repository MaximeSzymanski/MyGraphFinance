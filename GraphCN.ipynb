{
  "nbformat": 4,
  "nbformat_minor": 0,
  "metadata": {
    "colab": {
      "provenance": [],
      "toc_visible": true,
      "authorship_tag": "ABX9TyP17Ofm/W9bFsHDSFNONacm",
      "include_colab_link": true
    },
    "kernelspec": {
      "name": "python3",
      "display_name": "Python 3"
    },
    "language_info": {
      "name": "python"
    }
  },
  "cells": [
    {
      "cell_type": "markdown",
      "metadata": {
        "id": "view-in-github",
        "colab_type": "text"
      },
      "source": [
        "<a href=\"https://colab.research.google.com/github/MaximeSzymanski/MyGraphFinance/blob/main/GraphCN.ipynb\" target=\"_parent\"><img src=\"https://colab.research.google.com/assets/colab-badge.svg\" alt=\"Open In Colab\"/></a>"
      ]
    },
    {
      "cell_type": "markdown",
      "source": [],
      "metadata": {
        "id": "bP7DW6Pxggl7"
      }
    },
    {
      "cell_type": "markdown",
      "source": [
        "Project : write a Graph Convolutionnal Neural Network that will predict stocks values with datas collected over past 10 years.\n"
      ],
      "metadata": {
        "id": "WRuI4AOHgyqD"
      }
    },
    {
      "cell_type": "markdown",
      "source": [
        "# Get "
      ],
      "metadata": {
        "id": "_lcgqNmFhu_7"
      }
    }
  ]
}